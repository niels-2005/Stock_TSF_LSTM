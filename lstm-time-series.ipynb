{
 "cells": [
  {
   "cell_type": "code",
   "execution_count": 1,
   "metadata": {},
   "outputs": [
    {
     "name": "stdout",
     "output_type": "stream",
     "text": [
      "Path to dataset files: /home/ubuntu/.cache/kagglehub/datasets/szrlee/stock-time-series-20050101-to-20171231/versions/3\n"
     ]
    }
   ],
   "source": [
    "import kagglehub\n",
    "\n",
    "# Download latest version\n",
    "path = kagglehub.dataset_download(\"szrlee/stock-time-series-20050101-to-20171231\")\n",
    "\n",
    "print(\"Path to dataset files:\", path)"
   ]
  },
  {
   "cell_type": "code",
   "execution_count": 2,
   "metadata": {},
   "outputs": [
    {
     "name": "stderr",
     "output_type": "stream",
     "text": [
      "2024-12-09 21:20:45.295135: I tensorflow/core/util/port.cc:113] oneDNN custom operations are on. You may see slightly different numerical results due to floating-point round-off errors from different computation orders. To turn them off, set the environment variable `TF_ENABLE_ONEDNN_OPTS=0`.\n",
      "2024-12-09 21:20:45.321135: E external/local_xla/xla/stream_executor/cuda/cuda_dnn.cc:9261] Unable to register cuDNN factory: Attempting to register factory for plugin cuDNN when one has already been registered\n",
      "2024-12-09 21:20:45.321156: E external/local_xla/xla/stream_executor/cuda/cuda_fft.cc:607] Unable to register cuFFT factory: Attempting to register factory for plugin cuFFT when one has already been registered\n",
      "2024-12-09 21:20:45.321812: E external/local_xla/xla/stream_executor/cuda/cuda_blas.cc:1515] Unable to register cuBLAS factory: Attempting to register factory for plugin cuBLAS when one has already been registered\n",
      "2024-12-09 21:20:45.326328: I tensorflow/core/platform/cpu_feature_guard.cc:182] This TensorFlow binary is optimized to use available CPU instructions in performance-critical operations.\n",
      "To enable the following instructions: AVX2 AVX512F AVX512_VNNI FMA, in other operations, rebuild TensorFlow with the appropriate compiler flags.\n",
      "2024-12-09 21:20:45.843529: W tensorflow/compiler/tf2tensorrt/utils/py_utils.cc:38] TF-TRT Warning: Could not find TensorRT\n"
     ]
    }
   ],
   "source": [
    "# Importing the libraries\n",
    "import numpy as np\n",
    "import matplotlib.pyplot as plt\n",
    "\n",
    "plt.style.use(\"fivethirtyeight\")\n",
    "import pandas as pd\n",
    "from sklearn.preprocessing import MinMaxScaler\n",
    "import tensorflow as tf\n",
    "from tensorflow.keras.models import Sequential\n",
    "from tensorflow.keras.layers import Dense, LSTM, Dropout\n",
    "from tensorflow.keras import callbacks\n",
    "from tensorflow.keras.optimizers import Adam, RMSprop\n",
    "from sklearn.metrics import mean_squared_error, mean_absolute_error\n",
    "import pickle"
   ]
  },
  {
   "cell_type": "code",
   "execution_count": 3,
   "metadata": {},
   "outputs": [],
   "source": [
    "# Some functions to help out with\n",
    "def plot_predictions(test, predicted):\n",
    "    plt.figure(figsize=(12, 4))\n",
    "    plt.plot(test, color=\"red\", label=\"Real IBM Stock Price\")\n",
    "    plt.plot(predicted, color=\"blue\", label=\"Predicted IBM Stock Price\")\n",
    "    plt.title(\"IBM Stock Price Prediction\")\n",
    "    plt.xlabel(\"Time\")\n",
    "    plt.ylabel(\"IBM Stock Price\")\n",
    "    plt.legend()\n",
    "    plt.show()\n",
    "\n",
    "\n",
    "def calculate_metrics(y_true, y_pred):\n",
    "    mae = mean_absolute_error(y_true, y_pred)\n",
    "    mse = mean_squared_error(y_true, y_pred)\n",
    "    rmse = np.sqrt(mean_squared_error(y_true, y_pred))\n",
    "\n",
    "    df_dict = {\"mae\": mae, \"mse\": mse, \"rmse\": rmse}\n",
    "\n",
    "    df = pd.DataFrame([df_dict])\n",
    "    return df"
   ]
  },
  {
   "cell_type": "code",
   "execution_count": 4,
   "metadata": {},
   "outputs": [
    {
     "data": {
      "text/html": [
       "<div>\n",
       "<style scoped>\n",
       "    .dataframe tbody tr th:only-of-type {\n",
       "        vertical-align: middle;\n",
       "    }\n",
       "\n",
       "    .dataframe tbody tr th {\n",
       "        vertical-align: top;\n",
       "    }\n",
       "\n",
       "    .dataframe thead th {\n",
       "        text-align: right;\n",
       "    }\n",
       "</style>\n",
       "<table border=\"1\" class=\"dataframe\">\n",
       "  <thead>\n",
       "    <tr style=\"text-align: right;\">\n",
       "      <th></th>\n",
       "      <th>Open</th>\n",
       "      <th>High</th>\n",
       "      <th>Low</th>\n",
       "      <th>Close</th>\n",
       "      <th>Volume</th>\n",
       "      <th>Name</th>\n",
       "    </tr>\n",
       "    <tr>\n",
       "      <th>Date</th>\n",
       "      <th></th>\n",
       "      <th></th>\n",
       "      <th></th>\n",
       "      <th></th>\n",
       "      <th></th>\n",
       "      <th></th>\n",
       "    </tr>\n",
       "  </thead>\n",
       "  <tbody>\n",
       "    <tr>\n",
       "      <th>2006-01-03</th>\n",
       "      <td>82.45</td>\n",
       "      <td>82.55</td>\n",
       "      <td>80.81</td>\n",
       "      <td>82.06</td>\n",
       "      <td>11715200</td>\n",
       "      <td>IBM</td>\n",
       "    </tr>\n",
       "    <tr>\n",
       "      <th>2006-01-04</th>\n",
       "      <td>82.20</td>\n",
       "      <td>82.50</td>\n",
       "      <td>81.33</td>\n",
       "      <td>81.95</td>\n",
       "      <td>9840600</td>\n",
       "      <td>IBM</td>\n",
       "    </tr>\n",
       "    <tr>\n",
       "      <th>2006-01-05</th>\n",
       "      <td>81.40</td>\n",
       "      <td>82.90</td>\n",
       "      <td>81.00</td>\n",
       "      <td>82.50</td>\n",
       "      <td>7213500</td>\n",
       "      <td>IBM</td>\n",
       "    </tr>\n",
       "    <tr>\n",
       "      <th>2006-01-06</th>\n",
       "      <td>83.95</td>\n",
       "      <td>85.03</td>\n",
       "      <td>83.41</td>\n",
       "      <td>84.95</td>\n",
       "      <td>8197400</td>\n",
       "      <td>IBM</td>\n",
       "    </tr>\n",
       "    <tr>\n",
       "      <th>2006-01-09</th>\n",
       "      <td>84.10</td>\n",
       "      <td>84.25</td>\n",
       "      <td>83.38</td>\n",
       "      <td>83.73</td>\n",
       "      <td>6858200</td>\n",
       "      <td>IBM</td>\n",
       "    </tr>\n",
       "  </tbody>\n",
       "</table>\n",
       "</div>"
      ],
      "text/plain": [
       "             Open   High    Low  Close    Volume Name\n",
       "Date                                                 \n",
       "2006-01-03  82.45  82.55  80.81  82.06  11715200  IBM\n",
       "2006-01-04  82.20  82.50  81.33  81.95   9840600  IBM\n",
       "2006-01-05  81.40  82.90  81.00  82.50   7213500  IBM\n",
       "2006-01-06  83.95  85.03  83.41  84.95   8197400  IBM\n",
       "2006-01-09  84.10  84.25  83.38  83.73   6858200  IBM"
      ]
     },
     "execution_count": 4,
     "metadata": {},
     "output_type": "execute_result"
    }
   ],
   "source": [
    "# First, we get the data\n",
    "dataset = pd.read_csv(\n",
    "    \"/home/ubuntu/.cache/kagglehub/datasets/szrlee/stock-time-series-20050101-to-20171231/versions/3/IBM_2006-01-01_to_2018-01-01.csv\",\n",
    "    index_col=\"Date\",\n",
    "    parse_dates=[\"Date\"],\n",
    ")\n",
    "dataset.head()"
   ]
  },
  {
   "cell_type": "code",
   "execution_count": 5,
   "metadata": {},
   "outputs": [],
   "source": [
    "# Select All Values from first Column\n",
    "training_set = dataset[:\"2016\"].iloc[:, 1:2]\n",
    "test_set = dataset[\"2017\":].iloc[:, 1:2]"
   ]
  },
  {
   "cell_type": "code",
   "execution_count": 6,
   "metadata": {},
   "outputs": [
    {
     "data": {
      "text/html": [
       "<div>\n",
       "<style scoped>\n",
       "    .dataframe tbody tr th:only-of-type {\n",
       "        vertical-align: middle;\n",
       "    }\n",
       "\n",
       "    .dataframe tbody tr th {\n",
       "        vertical-align: top;\n",
       "    }\n",
       "\n",
       "    .dataframe thead th {\n",
       "        text-align: right;\n",
       "    }\n",
       "</style>\n",
       "<table border=\"1\" class=\"dataframe\">\n",
       "  <thead>\n",
       "    <tr style=\"text-align: right;\">\n",
       "      <th></th>\n",
       "      <th>High</th>\n",
       "    </tr>\n",
       "    <tr>\n",
       "      <th>Date</th>\n",
       "      <th></th>\n",
       "    </tr>\n",
       "  </thead>\n",
       "  <tbody>\n",
       "    <tr>\n",
       "      <th>2006-01-03</th>\n",
       "      <td>82.55</td>\n",
       "    </tr>\n",
       "    <tr>\n",
       "      <th>2006-01-04</th>\n",
       "      <td>82.50</td>\n",
       "    </tr>\n",
       "    <tr>\n",
       "      <th>2006-01-05</th>\n",
       "      <td>82.90</td>\n",
       "    </tr>\n",
       "    <tr>\n",
       "      <th>2006-01-06</th>\n",
       "      <td>85.03</td>\n",
       "    </tr>\n",
       "    <tr>\n",
       "      <th>2006-01-09</th>\n",
       "      <td>84.25</td>\n",
       "    </tr>\n",
       "  </tbody>\n",
       "</table>\n",
       "</div>"
      ],
      "text/plain": [
       "             High\n",
       "Date             \n",
       "2006-01-03  82.55\n",
       "2006-01-04  82.50\n",
       "2006-01-05  82.90\n",
       "2006-01-06  85.03\n",
       "2006-01-09  84.25"
      ]
     },
     "execution_count": 6,
     "metadata": {},
     "output_type": "execute_result"
    }
   ],
   "source": [
    "training_set.head()"
   ]
  },
  {
   "cell_type": "code",
   "execution_count": 7,
   "metadata": {},
   "outputs": [
    {
     "data": {
      "text/html": [
       "<div>\n",
       "<style scoped>\n",
       "    .dataframe tbody tr th:only-of-type {\n",
       "        vertical-align: middle;\n",
       "    }\n",
       "\n",
       "    .dataframe tbody tr th {\n",
       "        vertical-align: top;\n",
       "    }\n",
       "\n",
       "    .dataframe thead th {\n",
       "        text-align: right;\n",
       "    }\n",
       "</style>\n",
       "<table border=\"1\" class=\"dataframe\">\n",
       "  <thead>\n",
       "    <tr style=\"text-align: right;\">\n",
       "      <th></th>\n",
       "      <th>High</th>\n",
       "    </tr>\n",
       "    <tr>\n",
       "      <th>Date</th>\n",
       "      <th></th>\n",
       "    </tr>\n",
       "  </thead>\n",
       "  <tbody>\n",
       "    <tr>\n",
       "      <th>2017-01-03</th>\n",
       "      <td>167.87</td>\n",
       "    </tr>\n",
       "    <tr>\n",
       "      <th>2017-01-04</th>\n",
       "      <td>169.87</td>\n",
       "    </tr>\n",
       "    <tr>\n",
       "      <th>2017-01-05</th>\n",
       "      <td>169.39</td>\n",
       "    </tr>\n",
       "    <tr>\n",
       "      <th>2017-01-06</th>\n",
       "      <td>169.92</td>\n",
       "    </tr>\n",
       "    <tr>\n",
       "      <th>2017-01-09</th>\n",
       "      <td>169.80</td>\n",
       "    </tr>\n",
       "  </tbody>\n",
       "</table>\n",
       "</div>"
      ],
      "text/plain": [
       "              High\n",
       "Date              \n",
       "2017-01-03  167.87\n",
       "2017-01-04  169.87\n",
       "2017-01-05  169.39\n",
       "2017-01-06  169.92\n",
       "2017-01-09  169.80"
      ]
     },
     "execution_count": 7,
     "metadata": {},
     "output_type": "execute_result"
    }
   ],
   "source": [
    "test_set.head()"
   ]
  },
  {
   "cell_type": "code",
   "execution_count": 8,
   "metadata": {},
   "outputs": [],
   "source": [
    "# Select only Values from Sets without Index\n",
    "training_set = dataset[:\"2016\"].iloc[:, 1:2].values\n",
    "test_set = dataset[\"2017\":].iloc[:, 1:2].values"
   ]
  },
  {
   "cell_type": "code",
   "execution_count": 9,
   "metadata": {},
   "outputs": [
    {
     "data": {
      "image/png": "[encoded data removed]",
      "text/plain": [
       "<Figure size 1200x400 with 1 Axes>"
      ]
     },
     "metadata": {},
     "output_type": "display_data"
    }
   ],
   "source": [
    "# We have chosen 'High' attribute for prices. Let's see what it looks like\n",
    "dataset[\"High\"][:\"2016\"].plot(figsize=(12, 4), legend=True)\n",
    "dataset[\"High\"][\"2017\":].plot(figsize=(12, 4), legend=True)\n",
    "plt.legend([\"Training set (Before 2017)\", \"Test set (2017 and beyond)\"])\n",
    "plt.title(\"IBM stock price\")\n",
    "plt.show()"
   ]
  },
  {
   "cell_type": "code",
   "execution_count": 10,
   "metadata": {},
   "outputs": [],
   "source": [
    "# Scaling the training set\n",
    "sc = MinMaxScaler(feature_range=(0, 1))\n",
    "training_set_scaled = sc.fit_transform(training_set)"
   ]
  },
  {
   "cell_type": "code",
   "execution_count": 11,
   "metadata": {},
   "outputs": [],
   "source": [
    "# Save Scaler\n",
    "with open(\"scaler.pickle\", \"wb\") as f:\n",
    "    pickle.dump(sc, f)"
   ]
  },
  {
   "cell_type": "code",
   "execution_count": 12,
   "metadata": {},
   "outputs": [],
   "source": [
    "# Since LSTMs store long term memory state, we create a data structure with 60 timesteps and 1 output\n",
    "# So for each element of training set, we have 60 previous training set elements\n",
    "X_train = []\n",
    "y_train = []\n",
    "for i in range(60, len(training_set_scaled)):\n",
    "    X_train.append(training_set_scaled[i - 60 : i, 0])\n",
    "    y_train.append(training_set_scaled[i, 0])\n",
    "\n",
    "X_train, y_train = np.array(X_train), np.array(y_train)"
   ]
  },
  {
   "cell_type": "code",
   "execution_count": 13,
   "metadata": {},
   "outputs": [
    {
     "data": {
      "text/plain": [
       "(2709, 60)"
      ]
     },
     "execution_count": 13,
     "metadata": {},
     "output_type": "execute_result"
    }
   ],
   "source": [
    "X_train.shape"
   ]
  },
  {
   "cell_type": "code",
   "execution_count": 14,
   "metadata": {},
   "outputs": [],
   "source": [
    "# Reshaping to the shape (2709, 60, 1) is necessary because:\n",
    "# 1. LSTMs expect 3D inputs (samples, timesteps, features).\n",
    "# 2. It helps the model to process the temporal dependencies in the data correctly.\n",
    "# 3. Your data is only 2D so far, and the third dimension (features) must be added explicitly.\n",
    "X_train = np.reshape(X_train, (X_train.shape[0], X_train.shape[1], 1))"
   ]
  },
  {
   "cell_type": "code",
   "execution_count": 15,
   "metadata": {},
   "outputs": [
    {
     "data": {
      "text/plain": [
       "(2709, 60, 1)"
      ]
     },
     "execution_count": 15,
     "metadata": {},
     "output_type": "execute_result"
    }
   ],
   "source": [
    "X_train.shape"
   ]
  },
  {
   "cell_type": "code",
   "execution_count": 16,
   "metadata": {},
   "outputs": [
    {
     "name": "stderr",
     "output_type": "stream",
     "text": [
      "2024-12-09 21:20:46.488793: I external/local_xla/xla/stream_executor/cuda/cuda_executor.cc:901] successful NUMA node read from SysFS had negative value (-1), but there must be at least one NUMA node, so returning NUMA node zero. See more at https://github.com/torvalds/linux/blob/v6.0/Documentation/ABI/testing/sysfs-bus-pci#L344-L355\n",
      "2024-12-09 21:20:46.513833: I external/local_xla/xla/stream_executor/cuda/cuda_executor.cc:901] successful NUMA node read from SysFS had negative value (-1), but there must be at least one NUMA node, so returning NUMA node zero. See more at https://github.com/torvalds/linux/blob/v6.0/Documentation/ABI/testing/sysfs-bus-pci#L344-L355\n",
      "2024-12-09 21:20:46.513965: I external/local_xla/xla/stream_executor/cuda/cuda_executor.cc:901] successful NUMA node read from SysFS had negative value (-1), but there must be at least one NUMA node, so returning NUMA node zero. See more at https://github.com/torvalds/linux/blob/v6.0/Documentation/ABI/testing/sysfs-bus-pci#L344-L355\n",
      "2024-12-09 21:20:46.514867: I external/local_xla/xla/stream_executor/cuda/cuda_executor.cc:901] successful NUMA node read from SysFS had negative value (-1), but there must be at least one NUMA node, so returning NUMA node zero. See more at https://github.com/torvalds/linux/blob/v6.0/Documentation/ABI/testing/sysfs-bus-pci#L344-L355\n",
      "2024-12-09 21:20:46.515017: I external/local_xla/xla/stream_executor/cuda/cuda_executor.cc:901] successful NUMA node read from SysFS had negative value (-1), but there must be at least one NUMA node, so returning NUMA node zero. See more at https://github.com/torvalds/linux/blob/v6.0/Documentation/ABI/testing/sysfs-bus-pci#L344-L355\n",
      "2024-12-09 21:20:46.515150: I external/local_xla/xla/stream_executor/cuda/cuda_executor.cc:901] successful NUMA node read from SysFS had negative value (-1), but there must be at least one NUMA node, so returning NUMA node zero. See more at https://github.com/torvalds/linux/blob/v6.0/Documentation/ABI/testing/sysfs-bus-pci#L344-L355\n",
      "2024-12-09 21:20:46.564244: I external/local_xla/xla/stream_executor/cuda/cuda_executor.cc:901] successful NUMA node read from SysFS had negative value (-1), but there must be at least one NUMA node, so returning NUMA node zero. See more at https://github.com/torvalds/linux/blob/v6.0/Documentation/ABI/testing/sysfs-bus-pci#L344-L355\n",
      "2024-12-09 21:20:46.564372: I external/local_xla/xla/stream_executor/cuda/cuda_executor.cc:901] successful NUMA node read from SysFS had negative value (-1), but there must be at least one NUMA node, so returning NUMA node zero. See more at https://github.com/torvalds/linux/blob/v6.0/Documentation/ABI/testing/sysfs-bus-pci#L344-L355\n",
      "2024-12-09 21:20:46.564463: I external/local_xla/xla/stream_executor/cuda/cuda_executor.cc:901] successful NUMA node read from SysFS had negative value (-1), but there must be at least one NUMA node, so returning NUMA node zero. See more at https://github.com/torvalds/linux/blob/v6.0/Documentation/ABI/testing/sysfs-bus-pci#L344-L355\n",
      "2024-12-09 21:20:46.564527: I tensorflow/core/common_runtime/gpu/gpu_device.cc:1929] Created device /job:localhost/replica:0/task:0/device:GPU:0 with 9594 MB memory:  -> device: 0, name: NVIDIA GeForce RTX 4070, pci bus id: 0000:01:00.0, compute capability: 8.9\n",
      "2024-12-09 21:20:46.687021: I external/local_tsl/tsl/platform/default/subprocess.cc:304] Start cannot spawn child process: No such file or directory\n"
     ]
    }
   ],
   "source": [
    "# The LSTM architecture\n",
    "model = Sequential()\n",
    "# First LSTM layer with Dropout regularisation\n",
    "model.add(LSTM(units=50, return_sequences=True, input_shape=(X_train.shape[1], 1)))\n",
    "model.add(Dropout(0.2))\n",
    "# Second LSTM layer\n",
    "model.add(LSTM(units=50, return_sequences=True))\n",
    "model.add(Dropout(0.2))\n",
    "# Third LSTM layer\n",
    "model.add(LSTM(units=50, return_sequences=True))\n",
    "model.add(Dropout(0.2))\n",
    "# Fourth LSTM layer\n",
    "model.add(LSTM(units=50))\n",
    "model.add(Dropout(0.2))\n",
    "# The output layer (no activation because regression analysis)\n",
    "model.add(Dense(units=1))"
   ]
  },
  {
   "cell_type": "code",
   "execution_count": 17,
   "metadata": {},
   "outputs": [],
   "source": [
    "# define training callbacks\n",
    "\n",
    "early_stopping = callbacks.EarlyStopping(\n",
    "    patience=12, monitor=\"loss\", restore_best_weights=True\n",
    ")\n",
    "\n",
    "reduce_lr_on_plateau = callbacks.ReduceLROnPlateau(\n",
    "    patience=6, monitor=\"loss\", verbose=1\n",
    ")\n",
    "\n",
    "model_checkpoint = callbacks.ModelCheckpoint(\n",
    "    filepath=\"./models\", monitor=\"loss\", save_best_only=True\n",
    ")\n",
    "\n",
    "callbacks = [early_stopping, reduce_lr_on_plateau, model_checkpoint]"
   ]
  },
  {
   "cell_type": "code",
   "execution_count": 18,
   "metadata": {},
   "outputs": [
    {
     "name": "stdout",
     "output_type": "stream",
     "text": [
      "Epoch 1/100\n"
     ]
    },
    {
     "name": "stderr",
     "output_type": "stream",
     "text": [
      "2024-12-09 21:20:50.014924: I external/local_xla/xla/stream_executor/cuda/cuda_dnn.cc:454] Loaded cuDNN version 8904\n",
      "2024-12-09 21:20:50.687705: I external/local_xla/xla/service/service.cc:168] XLA service 0x76674c36ede0 initialized for platform CUDA (this does not guarantee that XLA will be used). Devices:\n",
      "2024-12-09 21:20:50.687721: I external/local_xla/xla/service/service.cc:176]   StreamExecutor device (0): NVIDIA GeForce RTX 4070, Compute Capability 8.9\n",
      "2024-12-09 21:20:50.691308: I tensorflow/compiler/mlir/tensorflow/utils/dump_mlir_util.cc:269] disabling MLIR crash reproducer, set env var `MLIR_CRASH_REPRODUCER_DIRECTORY` to enable.\n",
      "WARNING: All log messages before absl::InitializeLog() is called are written to STDERR\n",
      "I0000 00:00:1733775650.736790  140619 device_compiler.h:186] Compiled cluster using XLA!  This line is logged at most once for the lifetime of the process.\n"
     ]
    },
    {
     "name": "stdout",
     "output_type": "stream",
     "text": [
      "80/85 [===========================>..] - ETA: 0s - loss: 0.0211INFO:tensorflow:Assets written to: ./models/assets\n"
     ]
    },
    {
     "name": "stderr",
     "output_type": "stream",
     "text": [
      "INFO:tensorflow:Assets written to: ./models/assets\n"
     ]
    },
    {
     "name": "stdout",
     "output_type": "stream",
     "text": [
      "85/85 [==============================] - 10s 79ms/step - loss: 0.0203 - lr: 0.0010\n",
      "Epoch 2/100\n",
      "81/85 [===========================>..] - ETA: 0s - loss: 0.0053INFO:tensorflow:Assets written to: ./models/assets\n"
     ]
    },
    {
     "name": "stderr",
     "output_type": "stream",
     "text": [
      "INFO:tensorflow:Assets written to: ./models/assets\n"
     ]
    },
    {
     "name": "stdout",
     "output_type": "stream",
     "text": [
      "85/85 [==============================] - 6s 74ms/step - loss: 0.0052 - lr: 0.0010\n",
      "Epoch 3/100\n",
      "79/85 [==========================>...] - ETA: 0s - loss: 0.0047INFO:tensorflow:Assets written to: ./models/assets\n"
     ]
    },
    {
     "name": "stderr",
     "output_type": "stream",
     "text": [
      "INFO:tensorflow:Assets written to: ./models/assets\n"
     ]
    },
    {
     "name": "stdout",
     "output_type": "stream",
     "text": [
      "85/85 [==============================] - 6s 76ms/step - loss: 0.0047 - lr: 0.0010\n",
      "Epoch 4/100\n",
      "83/85 [============================>.] - ETA: 0s - loss: 0.0045INFO:tensorflow:Assets written to: ./models/assets\n"
     ]
    },
    {
     "name": "stderr",
     "output_type": "stream",
     "text": [
      "INFO:tensorflow:Assets written to: ./models/assets\n"
     ]
    },
    {
     "name": "stdout",
     "output_type": "stream",
     "text": [
      "85/85 [==============================] - 7s 79ms/step - loss: 0.0045 - lr: 0.0010\n",
      "Epoch 5/100\n",
      "83/85 [============================>.] - ETA: 0s - loss: 0.0042INFO:tensorflow:Assets written to: ./models/assets\n"
     ]
    },
    {
     "name": "stderr",
     "output_type": "stream",
     "text": [
      "INFO:tensorflow:Assets written to: ./models/assets\n"
     ]
    },
    {
     "name": "stdout",
     "output_type": "stream",
     "text": [
      "85/85 [==============================] - 6s 75ms/step - loss: 0.0041 - lr: 0.0010\n",
      "Epoch 6/100\n",
      "85/85 [==============================] - 1s 8ms/step - loss: 0.0042 - lr: 0.0010\n",
      "Epoch 7/100\n",
      "85/85 [==============================] - ETA: 0s - loss: 0.0038INFO:tensorflow:Assets written to: ./models/assets\n"
     ]
    },
    {
     "name": "stderr",
     "output_type": "stream",
     "text": [
      "INFO:tensorflow:Assets written to: ./models/assets\n"
     ]
    },
    {
     "name": "stdout",
     "output_type": "stream",
     "text": [
      "85/85 [==============================] - 6s 76ms/step - loss: 0.0038 - lr: 0.0010\n",
      "Epoch 8/100\n",
      "81/85 [===========================>..] - ETA: 0s - loss: 0.0034INFO:tensorflow:Assets written to: ./models/assets\n"
     ]
    },
    {
     "name": "stderr",
     "output_type": "stream",
     "text": [
      "INFO:tensorflow:Assets written to: ./models/assets\n"
     ]
    },
    {
     "name": "stdout",
     "output_type": "stream",
     "text": [
      "85/85 [==============================] - 6s 75ms/step - loss: 0.0034 - lr: 0.0010\n",
      "Epoch 9/100\n",
      "81/85 [===========================>..] - ETA: 0s - loss: 0.0033INFO:tensorflow:Assets written to: ./models/assets\n"
     ]
    },
    {
     "name": "stderr",
     "output_type": "stream",
     "text": [
      "INFO:tensorflow:Assets written to: ./models/assets\n"
     ]
    },
    {
     "name": "stdout",
     "output_type": "stream",
     "text": [
      "85/85 [==============================] - 6s 75ms/step - loss: 0.0033 - lr: 0.0010\n",
      "Epoch 10/100\n",
      "82/85 [===========================>..] - ETA: 0s - loss: 0.0032INFO:tensorflow:Assets written to: ./models/assets\n"
     ]
    },
    {
     "name": "stderr",
     "output_type": "stream",
     "text": [
      "INFO:tensorflow:Assets written to: ./models/assets\n"
     ]
    },
    {
     "name": "stdout",
     "output_type": "stream",
     "text": [
      "85/85 [==============================] - 6s 75ms/step - loss: 0.0033 - lr: 0.0010\n",
      "Epoch 11/100\n",
      "83/85 [============================>.] - ETA: 0s - loss: 0.0032INFO:tensorflow:Assets written to: ./models/assets\n"
     ]
    },
    {
     "name": "stderr",
     "output_type": "stream",
     "text": [
      "INFO:tensorflow:Assets written to: ./models/assets\n"
     ]
    },
    {
     "name": "stdout",
     "output_type": "stream",
     "text": [
      "85/85 [==============================] - 6s 75ms/step - loss: 0.0032 - lr: 0.0010\n",
      "Epoch 12/100\n",
      "83/85 [============================>.] - ETA: 0s - loss: 0.0032INFO:tensorflow:Assets written to: ./models/assets\n"
     ]
    },
    {
     "name": "stderr",
     "output_type": "stream",
     "text": [
      "INFO:tensorflow:Assets written to: ./models/assets\n"
     ]
    },
    {
     "name": "stdout",
     "output_type": "stream",
     "text": [
      "85/85 [==============================] - 6s 77ms/step - loss: 0.0032 - lr: 0.0010\n",
      "Epoch 13/100\n",
      "85/85 [==============================] - ETA: 0s - loss: 0.0029INFO:tensorflow:Assets written to: ./models/assets\n"
     ]
    },
    {
     "name": "stderr",
     "output_type": "stream",
     "text": [
      "INFO:tensorflow:Assets written to: ./models/assets\n"
     ]
    },
    {
     "name": "stdout",
     "output_type": "stream",
     "text": [
      "85/85 [==============================] - 6s 74ms/step - loss: 0.0029 - lr: 0.0010\n",
      "Epoch 14/100\n",
      "79/85 [==========================>...] - ETA: 0s - loss: 0.0027INFO:tensorflow:Assets written to: ./models/assets\n"
     ]
    },
    {
     "name": "stderr",
     "output_type": "stream",
     "text": [
      "INFO:tensorflow:Assets written to: ./models/assets\n"
     ]
    },
    {
     "name": "stdout",
     "output_type": "stream",
     "text": [
      "85/85 [==============================] - 6s 75ms/step - loss: 0.0027 - lr: 0.0010\n",
      "Epoch 15/100\n",
      "85/85 [==============================] - 1s 8ms/step - loss: 0.0030 - lr: 0.0010\n",
      "Epoch 16/100\n",
      "82/85 [===========================>..] - ETA: 0s - loss: 0.0025INFO:tensorflow:Assets written to: ./models/assets\n"
     ]
    },
    {
     "name": "stderr",
     "output_type": "stream",
     "text": [
      "INFO:tensorflow:Assets written to: ./models/assets\n"
     ]
    },
    {
     "name": "stdout",
     "output_type": "stream",
     "text": [
      "85/85 [==============================] - 6s 74ms/step - loss: 0.0024 - lr: 0.0010\n",
      "Epoch 17/100\n",
      "83/85 [============================>.] - ETA: 0s - loss: 0.0024INFO:tensorflow:Assets written to: ./models/assets\n"
     ]
    },
    {
     "name": "stderr",
     "output_type": "stream",
     "text": [
      "INFO:tensorflow:Assets written to: ./models/assets\n"
     ]
    },
    {
     "name": "stdout",
     "output_type": "stream",
     "text": [
      "85/85 [==============================] - 6s 76ms/step - loss: 0.0024 - lr: 0.0010\n",
      "Epoch 18/100\n",
      "85/85 [==============================] - 1s 8ms/step - loss: 0.0027 - lr: 0.0010\n",
      "Epoch 19/100\n",
      "85/85 [==============================] - ETA: 0s - loss: 0.0023INFO:tensorflow:Assets written to: ./models/assets\n"
     ]
    },
    {
     "name": "stderr",
     "output_type": "stream",
     "text": [
      "INFO:tensorflow:Assets written to: ./models/assets\n"
     ]
    },
    {
     "name": "stdout",
     "output_type": "stream",
     "text": [
      "85/85 [==============================] - 6s 74ms/step - loss: 0.0023 - lr: 0.0010\n",
      "Epoch 20/100\n",
      "85/85 [==============================] - 1s 8ms/step - loss: 0.0023 - lr: 0.0010\n",
      "Epoch 21/100\n",
      "85/85 [==============================] - 1s 8ms/step - loss: 0.0023 - lr: 0.0010\n",
      "Epoch 22/100\n",
      "85/85 [==============================] - 1s 8ms/step - loss: 0.0023 - lr: 0.0010\n",
      "Epoch 23/100\n",
      "83/85 [============================>.] - ETA: 0s - loss: 0.0020INFO:tensorflow:Assets written to: ./models/assets\n"
     ]
    },
    {
     "name": "stderr",
     "output_type": "stream",
     "text": [
      "INFO:tensorflow:Assets written to: ./models/assets\n"
     ]
    },
    {
     "name": "stdout",
     "output_type": "stream",
     "text": [
      "85/85 [==============================] - 6s 76ms/step - loss: 0.0020 - lr: 0.0010\n",
      "Epoch 24/100\n",
      "80/85 [===========================>..] - ETA: 0s - loss: 0.0019INFO:tensorflow:Assets written to: ./models/assets\n"
     ]
    },
    {
     "name": "stderr",
     "output_type": "stream",
     "text": [
      "INFO:tensorflow:Assets written to: ./models/assets\n"
     ]
    },
    {
     "name": "stdout",
     "output_type": "stream",
     "text": [
      "85/85 [==============================] - 6s 75ms/step - loss: 0.0019 - lr: 0.0010\n",
      "Epoch 25/100\n",
      "81/85 [===========================>..] - ETA: 0s - loss: 0.0019INFO:tensorflow:Assets written to: ./models/assets\n"
     ]
    },
    {
     "name": "stderr",
     "output_type": "stream",
     "text": [
      "INFO:tensorflow:Assets written to: ./models/assets\n"
     ]
    },
    {
     "name": "stdout",
     "output_type": "stream",
     "text": [
      "85/85 [==============================] - 6s 74ms/step - loss: 0.0019 - lr: 0.0010\n",
      "Epoch 26/100\n",
      "85/85 [==============================] - 1s 8ms/step - loss: 0.0020 - lr: 0.0010\n",
      "Epoch 27/100\n",
      "85/85 [==============================] - 1s 8ms/step - loss: 0.0020 - lr: 0.0010\n",
      "Epoch 28/100\n",
      "85/85 [==============================] - 1s 8ms/step - loss: 0.0022 - lr: 0.0010\n",
      "Epoch 29/100\n",
      "84/85 [============================>.] - ETA: 0s - loss: 0.0018INFO:tensorflow:Assets written to: ./models/assets\n"
     ]
    },
    {
     "name": "stderr",
     "output_type": "stream",
     "text": [
      "INFO:tensorflow:Assets written to: ./models/assets\n"
     ]
    },
    {
     "name": "stdout",
     "output_type": "stream",
     "text": [
      "85/85 [==============================] - 7s 78ms/step - loss: 0.0018 - lr: 0.0010\n",
      "Epoch 30/100\n",
      "85/85 [==============================] - 1s 8ms/step - loss: 0.0018 - lr: 0.0010\n",
      "Epoch 31/100\n",
      "85/85 [==============================] - ETA: 0s - loss: 0.0018INFO:tensorflow:Assets written to: ./models/assets\n"
     ]
    },
    {
     "name": "stderr",
     "output_type": "stream",
     "text": [
      "INFO:tensorflow:Assets written to: ./models/assets\n"
     ]
    },
    {
     "name": "stdout",
     "output_type": "stream",
     "text": [
      "85/85 [==============================] - 7s 78ms/step - loss: 0.0018 - lr: 0.0010\n",
      "Epoch 32/100\n",
      "82/85 [===========================>..] - ETA: 0s - loss: 0.0017INFO:tensorflow:Assets written to: ./models/assets\n"
     ]
    },
    {
     "name": "stderr",
     "output_type": "stream",
     "text": [
      "INFO:tensorflow:Assets written to: ./models/assets\n"
     ]
    },
    {
     "name": "stdout",
     "output_type": "stream",
     "text": [
      "85/85 [==============================] - 6s 74ms/step - loss: 0.0016 - lr: 0.0010\n",
      "Epoch 33/100\n",
      "85/85 [==============================] - 1s 8ms/step - loss: 0.0017 - lr: 0.0010\n",
      "Epoch 34/100\n",
      "85/85 [==============================] - 1s 9ms/step - loss: 0.0018 - lr: 0.0010\n",
      "Epoch 35/100\n",
      "83/85 [============================>.] - ETA: 0s - loss: 0.0016INFO:tensorflow:Assets written to: ./models/assets\n"
     ]
    },
    {
     "name": "stderr",
     "output_type": "stream",
     "text": [
      "INFO:tensorflow:Assets written to: ./models/assets\n"
     ]
    },
    {
     "name": "stdout",
     "output_type": "stream",
     "text": [
      "85/85 [==============================] - 7s 78ms/step - loss: 0.0016 - lr: 0.0010\n",
      "Epoch 36/100\n",
      "80/85 [===========================>..] - ETA: 0s - loss: 0.0015INFO:tensorflow:Assets written to: ./models/assets\n"
     ]
    },
    {
     "name": "stderr",
     "output_type": "stream",
     "text": [
      "INFO:tensorflow:Assets written to: ./models/assets\n"
     ]
    },
    {
     "name": "stdout",
     "output_type": "stream",
     "text": [
      "85/85 [==============================] - 6s 76ms/step - loss: 0.0015 - lr: 0.0010\n",
      "Epoch 37/100\n",
      "80/85 [===========================>..] - ETA: 0s - loss: 0.0015INFO:tensorflow:Assets written to: ./models/assets\n"
     ]
    },
    {
     "name": "stderr",
     "output_type": "stream",
     "text": [
      "INFO:tensorflow:Assets written to: ./models/assets\n"
     ]
    },
    {
     "name": "stdout",
     "output_type": "stream",
     "text": [
      "85/85 [==============================] - 6s 73ms/step - loss: 0.0015 - lr: 0.0010\n",
      "Epoch 38/100\n",
      "85/85 [==============================] - ETA: 0s - loss: 0.0014INFO:tensorflow:Assets written to: ./models/assets\n"
     ]
    },
    {
     "name": "stderr",
     "output_type": "stream",
     "text": [
      "INFO:tensorflow:Assets written to: ./models/assets\n"
     ]
    },
    {
     "name": "stdout",
     "output_type": "stream",
     "text": [
      "85/85 [==============================] - 6s 75ms/step - loss: 0.0014 - lr: 0.0010\n",
      "Epoch 39/100\n",
      "85/85 [==============================] - 1s 9ms/step - loss: 0.0015 - lr: 0.0010\n",
      "Epoch 40/100\n",
      "81/85 [===========================>..] - ETA: 0s - loss: 0.0014INFO:tensorflow:Assets written to: ./models/assets\n"
     ]
    },
    {
     "name": "stderr",
     "output_type": "stream",
     "text": [
      "INFO:tensorflow:Assets written to: ./models/assets\n"
     ]
    },
    {
     "name": "stdout",
     "output_type": "stream",
     "text": [
      "85/85 [==============================] - 6s 73ms/step - loss: 0.0014 - lr: 0.0010\n",
      "Epoch 41/100\n",
      "85/85 [==============================] - ETA: 0s - loss: 0.0014INFO:tensorflow:Assets written to: ./models/assets\n"
     ]
    },
    {
     "name": "stderr",
     "output_type": "stream",
     "text": [
      "INFO:tensorflow:Assets written to: ./models/assets\n"
     ]
    },
    {
     "name": "stdout",
     "output_type": "stream",
     "text": [
      "85/85 [==============================] - 7s 80ms/step - loss: 0.0014 - lr: 0.0010\n",
      "Epoch 42/100\n",
      "83/85 [============================>.] - ETA: 0s - loss: 0.0013INFO:tensorflow:Assets written to: ./models/assets\n"
     ]
    },
    {
     "name": "stderr",
     "output_type": "stream",
     "text": [
      "INFO:tensorflow:Assets written to: ./models/assets\n"
     ]
    },
    {
     "name": "stdout",
     "output_type": "stream",
     "text": [
      "85/85 [==============================] - 6s 74ms/step - loss: 0.0013 - lr: 0.0010\n",
      "Epoch 43/100\n",
      "82/85 [===========================>..] - ETA: 0s - loss: 0.0013INFO:tensorflow:Assets written to: ./models/assets\n"
     ]
    },
    {
     "name": "stderr",
     "output_type": "stream",
     "text": [
      "INFO:tensorflow:Assets written to: ./models/assets\n"
     ]
    },
    {
     "name": "stdout",
     "output_type": "stream",
     "text": [
      "85/85 [==============================] - 6s 77ms/step - loss: 0.0013 - lr: 0.0010\n",
      "Epoch 44/100\n",
      "84/85 [============================>.] - ETA: 0s - loss: 0.0013INFO:tensorflow:Assets written to: ./models/assets\n"
     ]
    },
    {
     "name": "stderr",
     "output_type": "stream",
     "text": [
      "INFO:tensorflow:Assets written to: ./models/assets\n"
     ]
    },
    {
     "name": "stdout",
     "output_type": "stream",
     "text": [
      "85/85 [==============================] - 6s 74ms/step - loss: 0.0013 - lr: 0.0010\n",
      "Epoch 45/100\n",
      "84/85 [============================>.] - ETA: 0s - loss: 0.0012INFO:tensorflow:Assets written to: ./models/assets\n"
     ]
    },
    {
     "name": "stderr",
     "output_type": "stream",
     "text": [
      "INFO:tensorflow:Assets written to: ./models/assets\n"
     ]
    },
    {
     "name": "stdout",
     "output_type": "stream",
     "text": [
      "85/85 [==============================] - 6s 75ms/step - loss: 0.0012 - lr: 0.0010\n",
      "Epoch 46/100\n",
      "85/85 [==============================] - 1s 8ms/step - loss: 0.0013 - lr: 0.0010\n",
      "Epoch 47/100\n",
      "85/85 [==============================] - 1s 8ms/step - loss: 0.0012 - lr: 0.0010\n",
      "Epoch 48/100\n",
      "84/85 [============================>.] - ETA: 0s - loss: 0.0012INFO:tensorflow:Assets written to: ./models/assets\n"
     ]
    },
    {
     "name": "stderr",
     "output_type": "stream",
     "text": [
      "INFO:tensorflow:Assets written to: ./models/assets\n"
     ]
    },
    {
     "name": "stdout",
     "output_type": "stream",
     "text": [
      "85/85 [==============================] - 7s 78ms/step - loss: 0.0012 - lr: 0.0010\n",
      "Epoch 49/100\n",
      "83/85 [============================>.] - ETA: 0s - loss: 0.0011INFO:tensorflow:Assets written to: ./models/assets\n"
     ]
    },
    {
     "name": "stderr",
     "output_type": "stream",
     "text": [
      "INFO:tensorflow:Assets written to: ./models/assets\n"
     ]
    },
    {
     "name": "stdout",
     "output_type": "stream",
     "text": [
      "85/85 [==============================] - 6s 76ms/step - loss: 0.0011 - lr: 0.0010\n",
      "Epoch 50/100\n",
      "85/85 [==============================] - 1s 8ms/step - loss: 0.0012 - lr: 0.0010\n",
      "Epoch 51/100\n",
      "85/85 [==============================] - 1s 9ms/step - loss: 0.0011 - lr: 0.0010\n",
      "Epoch 52/100\n",
      "85/85 [==============================] - 1s 8ms/step - loss: 0.0011 - lr: 0.0010\n",
      "Epoch 53/100\n",
      "85/85 [==============================] - 1s 8ms/step - loss: 0.0012 - lr: 0.0010\n",
      "Epoch 54/100\n",
      "82/85 [===========================>..] - ETA: 0s - loss: 0.0011\n",
      "Epoch 54: ReduceLROnPlateau reducing learning rate to 0.00010000000474974513.\n",
      "INFO:tensorflow:Assets written to: ./models/assets\n"
     ]
    },
    {
     "name": "stderr",
     "output_type": "stream",
     "text": [
      "INFO:tensorflow:Assets written to: ./models/assets\n"
     ]
    },
    {
     "name": "stdout",
     "output_type": "stream",
     "text": [
      "85/85 [==============================] - 6s 77ms/step - loss: 0.0011 - lr: 0.0010\n",
      "Epoch 55/100\n",
      "81/85 [===========================>..] - ETA: 0s - loss: 0.0010INFO:tensorflow:Assets written to: ./models/assets\n"
     ]
    },
    {
     "name": "stderr",
     "output_type": "stream",
     "text": [
      "INFO:tensorflow:Assets written to: ./models/assets\n"
     ]
    },
    {
     "name": "stdout",
     "output_type": "stream",
     "text": [
      "85/85 [==============================] - 6s 77ms/step - loss: 0.0010 - lr: 1.0000e-04\n",
      "Epoch 56/100\n",
      "80/85 [===========================>..] - ETA: 0s - loss: 9.6673e-04INFO:tensorflow:Assets written to: ./models/assets\n"
     ]
    },
    {
     "name": "stderr",
     "output_type": "stream",
     "text": [
      "INFO:tensorflow:Assets written to: ./models/assets\n"
     ]
    },
    {
     "name": "stdout",
     "output_type": "stream",
     "text": [
      "85/85 [==============================] - 7s 78ms/step - loss: 9.6930e-04 - lr: 1.0000e-04\n",
      "Epoch 57/100\n",
      "85/85 [==============================] - 1s 9ms/step - loss: 9.8736e-04 - lr: 1.0000e-04\n",
      "Epoch 58/100\n",
      "82/85 [===========================>..] - ETA: 0s - loss: 9.1941e-04INFO:tensorflow:Assets written to: ./models/assets\n"
     ]
    },
    {
     "name": "stderr",
     "output_type": "stream",
     "text": [
      "INFO:tensorflow:Assets written to: ./models/assets\n"
     ]
    },
    {
     "name": "stdout",
     "output_type": "stream",
     "text": [
      "85/85 [==============================] - 6s 76ms/step - loss: 9.2579e-04 - lr: 1.0000e-04\n",
      "Epoch 59/100\n",
      "85/85 [==============================] - 1s 8ms/step - loss: 9.3741e-04 - lr: 1.0000e-04\n",
      "Epoch 60/100\n",
      "85/85 [==============================] - 1s 8ms/step - loss: 9.6553e-04 - lr: 1.0000e-04\n",
      "Epoch 61/100\n",
      "84/85 [============================>.] - ETA: 0s - loss: 9.0796e-04INFO:tensorflow:Assets written to: ./models/assets\n"
     ]
    },
    {
     "name": "stderr",
     "output_type": "stream",
     "text": [
      "INFO:tensorflow:Assets written to: ./models/assets\n"
     ]
    },
    {
     "name": "stdout",
     "output_type": "stream",
     "text": [
      "85/85 [==============================] - 6s 74ms/step - loss: 9.0818e-04 - lr: 1.0000e-04\n",
      "Epoch 62/100\n",
      "85/85 [==============================] - 1s 8ms/step - loss: 9.2421e-04 - lr: 1.0000e-04\n",
      "Epoch 63/100\n",
      "85/85 [==============================] - 1s 8ms/step - loss: 9.5765e-04 - lr: 1.0000e-04\n",
      "Epoch 64/100\n",
      "85/85 [==============================] - 1s 8ms/step - loss: 9.6296e-04 - lr: 1.0000e-04\n",
      "Epoch 65/100\n",
      "85/85 [==============================] - 1s 8ms/step - loss: 9.4741e-04 - lr: 1.0000e-04\n",
      "Epoch 66/100\n",
      "80/85 [===========================>..] - ETA: 0s - loss: 8.8196e-04INFO:tensorflow:Assets written to: ./models/assets\n"
     ]
    },
    {
     "name": "stderr",
     "output_type": "stream",
     "text": [
      "INFO:tensorflow:Assets written to: ./models/assets\n"
     ]
    },
    {
     "name": "stdout",
     "output_type": "stream",
     "text": [
      "85/85 [==============================] - 6s 76ms/step - loss: 8.7244e-04 - lr: 1.0000e-04\n",
      "Epoch 67/100\n",
      "84/85 [============================>.] - ETA: 0s - loss: 9.8062e-04\n",
      "Epoch 67: ReduceLROnPlateau reducing learning rate to 1.0000000474974514e-05.\n",
      "85/85 [==============================] - 1s 8ms/step - loss: 9.8239e-04 - lr: 1.0000e-04\n",
      "Epoch 68/100\n",
      "85/85 [==============================] - 1s 8ms/step - loss: 9.0377e-04 - lr: 1.0000e-05\n",
      "Epoch 69/100\n",
      "85/85 [==============================] - 1s 8ms/step - loss: 9.0797e-04 - lr: 1.0000e-05\n",
      "Epoch 70/100\n",
      "85/85 [==============================] - 1s 8ms/step - loss: 9.1816e-04 - lr: 1.0000e-05\n",
      "Epoch 71/100\n",
      "85/85 [==============================] - 1s 8ms/step - loss: 8.8717e-04 - lr: 1.0000e-05\n",
      "Epoch 72/100\n",
      "85/85 [==============================] - 1s 8ms/step - loss: 9.4611e-04 - lr: 1.0000e-05\n",
      "Epoch 73/100\n",
      "84/85 [============================>.] - ETA: 0s - loss: 8.8283e-04\n",
      "Epoch 73: ReduceLROnPlateau reducing learning rate to 1.0000000656873453e-06.\n",
      "85/85 [==============================] - 1s 8ms/step - loss: 8.8382e-04 - lr: 1.0000e-05\n",
      "Epoch 74/100\n",
      "83/85 [============================>.] - ETA: 0s - loss: 8.6528e-04INFO:tensorflow:Assets written to: ./models/assets\n"
     ]
    },
    {
     "name": "stderr",
     "output_type": "stream",
     "text": [
      "INFO:tensorflow:Assets written to: ./models/assets\n"
     ]
    },
    {
     "name": "stdout",
     "output_type": "stream",
     "text": [
      "85/85 [==============================] - 6s 75ms/step - loss: 8.6573e-04 - lr: 1.0000e-06\n",
      "Epoch 75/100\n",
      "85/85 [==============================] - 1s 8ms/step - loss: 9.3072e-04 - lr: 1.0000e-06\n",
      "Epoch 76/100\n",
      "85/85 [==============================] - 1s 8ms/step - loss: 9.1115e-04 - lr: 1.0000e-06\n",
      "Epoch 77/100\n",
      "85/85 [==============================] - 1s 8ms/step - loss: 9.0832e-04 - lr: 1.0000e-06\n",
      "Epoch 78/100\n",
      "85/85 [==============================] - 1s 8ms/step - loss: 9.2274e-04 - lr: 1.0000e-06\n",
      "Epoch 79/100\n",
      "85/85 [==============================] - ETA: 0s - loss: 8.7512e-04\n",
      "Epoch 79: ReduceLROnPlateau reducing learning rate to 1.0000001111620805e-07.\n",
      "85/85 [==============================] - 1s 8ms/step - loss: 8.7512e-04 - lr: 1.0000e-06\n",
      "Epoch 80/100\n",
      "85/85 [==============================] - 1s 8ms/step - loss: 9.0350e-04 - lr: 1.0000e-07\n",
      "Epoch 81/100\n",
      "85/85 [==============================] - 1s 8ms/step - loss: 9.0429e-04 - lr: 1.0000e-07\n",
      "Epoch 82/100\n",
      "85/85 [==============================] - 1s 9ms/step - loss: 9.2893e-04 - lr: 1.0000e-07\n",
      "Epoch 83/100\n",
      "85/85 [==============================] - 1s 8ms/step - loss: 9.6573e-04 - lr: 1.0000e-07\n",
      "Epoch 84/100\n",
      "85/85 [==============================] - 1s 8ms/step - loss: 9.0878e-04 - lr: 1.0000e-07\n",
      "Epoch 85/100\n",
      "84/85 [============================>.] - ETA: 0s - loss: 8.7660e-04\n",
      "Epoch 85: ReduceLROnPlateau reducing learning rate to 1.000000082740371e-08.\n",
      "85/85 [==============================] - 1s 8ms/step - loss: 8.7395e-04 - lr: 1.0000e-07\n",
      "Epoch 86/100\n",
      "85/85 [==============================] - 1s 8ms/step - loss: 9.2235e-04 - lr: 1.0000e-08\n"
     ]
    },
    {
     "data": {
      "text/plain": [
       "<keras.src.callbacks.History at 0x766c3abff5e0>"
      ]
     },
     "execution_count": 18,
     "metadata": {},
     "output_type": "execute_result"
    }
   ],
   "source": [
    "optimizer = Adam()\n",
    "\n",
    "# Compiling the RNN\n",
    "model.compile(optimizer=optimizer, loss=\"mean_squared_error\")\n",
    "# Fitting to the training set\n",
    "model.fit(X_train, y_train, epochs=100, batch_size=32, callbacks=callbacks)"
   ]
  },
  {
   "cell_type": "code",
   "execution_count": 19,
   "metadata": {},
   "outputs": [],
   "source": [
    "# Now to get the test set ready in a similar way as the training set.\n",
    "# The following has been done so forst 60 entires of test set have 60 previous values which is impossible to get unless we take the whole\n",
    "# 'High' attribute data for processing\n",
    "dataset_total = pd.concat((dataset[\"High\"][:\"2016\"], dataset[\"High\"][\"2017\":]), axis=0)\n",
    "\n",
    "inputs = dataset_total[len(dataset_total) - len(test_set) - 60 :].values\n",
    "\n",
    "# reshape and transform inputs\n",
    "inputs = inputs.reshape(-1, 1)\n",
    "inputs = sc.transform(inputs)"
   ]
  },
  {
   "cell_type": "code",
   "execution_count": 20,
   "metadata": {},
   "outputs": [],
   "source": [
    "# Preparing X_test\n",
    "X_test = []\n",
    "for i in range(60, len(inputs)):\n",
    "    X_test.append(inputs[i - 60 : i, 0])\n",
    "\n",
    "# reshape\n",
    "X_test = np.array(X_test)\n",
    "X_test = np.reshape(X_test, (X_test.shape[0], X_test.shape[1], 1))"
   ]
  },
  {
   "cell_type": "code",
   "execution_count": 21,
   "metadata": {},
   "outputs": [],
   "source": [
    "# load best model from training\n",
    "loaded_model = tf.keras.models.load_model(\"./models\")"
   ]
  },
  {
   "cell_type": "code",
   "execution_count": 22,
   "metadata": {},
   "outputs": [
    {
     "name": "stdout",
     "output_type": "stream",
     "text": [
      "8/8 [==============================] - 1s 3ms/step\n"
     ]
    }
   ],
   "source": [
    "# make predictions on test set and inverse_transform to correct prices\n",
    "predicted_stock_price = loaded_model.predict(X_test)\n",
    "predicted_stock_price = sc.inverse_transform(predicted_stock_price)"
   ]
  },
  {
   "cell_type": "code",
   "execution_count": 23,
   "metadata": {},
   "outputs": [
    {
     "data": {
      "text/html": [
       "<div>\n",
       "<style scoped>\n",
       "    .dataframe tbody tr th:only-of-type {\n",
       "        vertical-align: middle;\n",
       "    }\n",
       "\n",
       "    .dataframe tbody tr th {\n",
       "        vertical-align: top;\n",
       "    }\n",
       "\n",
       "    .dataframe thead th {\n",
       "        text-align: right;\n",
       "    }\n",
       "</style>\n",
       "<table border=\"1\" class=\"dataframe\">\n",
       "  <thead>\n",
       "    <tr style=\"text-align: right;\">\n",
       "      <th></th>\n",
       "      <th>mae</th>\n",
       "      <th>mse</th>\n",
       "      <th>rmse</th>\n",
       "    </tr>\n",
       "  </thead>\n",
       "  <tbody>\n",
       "    <tr>\n",
       "      <th>0</th>\n",
       "      <td>1.455807</td>\n",
       "      <td>4.864768</td>\n",
       "      <td>2.205622</td>\n",
       "    </tr>\n",
       "  </tbody>\n",
       "</table>\n",
       "</div>"
      ],
      "text/plain": [
       "        mae       mse      rmse\n",
       "0  1.455807  4.864768  2.205622"
      ]
     },
     "execution_count": 23,
     "metadata": {},
     "output_type": "execute_result"
    }
   ],
   "source": [
    "# Evaluating our model\n",
    "df = calculate_metrics(test_set, predicted_stock_price)\n",
    "df"
   ]
  },
  {
   "cell_type": "code",
   "execution_count": 24,
   "metadata": {},
   "outputs": [
    {
     "data": {
      "image/png": "[encoded data removed]",
      "text/plain": [
       "<Figure size 1200x400 with 1 Axes>"
      ]
     },
     "metadata": {},
     "output_type": "display_data"
    }
   ],
   "source": [
    "# Visualizing the results for LSTM\n",
    "plot_predictions(test_set, predicted_stock_price)"
   ]
  }
 ],
 "metadata": {
  "kernelspec": {
   "display_name": "tf",
   "language": "python",
   "name": "python3"
  },
  "language_info": {
   "codemirror_mode": {
    "name": "ipython",
    "version": 3
   },
   "file_extension": ".py",
   "mimetype": "text/x-python",
   "name": "python",
   "nbconvert_exporter": "python",
   "pygments_lexer": "ipython3",
   "version": "3.10.13"
  }
 },
 "nbformat": 4,
 "nbformat_minor": 2
}
